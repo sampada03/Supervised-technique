{
  "nbformat": 4,
  "nbformat_minor": 0,
  "metadata": {
    "colab": {
      "provenance": []
    },
    "kernelspec": {
      "name": "python3",
      "display_name": "Python 3"
    },
    "language_info": {
      "name": "python"
    }
  },
  "cells": [
    {
      "cell_type": "code",
      "execution_count": null,
      "metadata": {
        "colab": {
          "base_uri": "https://localhost:8080/",
          "height": 265
        },
        "id": "nHXEWnB7yn4v",
        "outputId": "656e6f4c-9b00-478a-e05e-4118a0a913e4"
      },
      "outputs": [
        {
          "output_type": "display_data",
          "data": {
            "text/plain": [
              "<Figure size 432x288 with 1 Axes>"
            ],
            "image/png": "[encoded data removed]"
          },
          "metadata": {
            "needs_background": "light"
          }
        }
      ],
      "source": [
        "import matplotlib.pyplot as plt\n",
        "x=[7, 14, 21, 28, 35]\n",
        "y=[10, 11, 24, 25, 38]\n",
        "classes=[1,1,0,0,0]\n",
        "plt.scatter(x,y,c=classes)\n",
        "plt.show()"
      ]
    },
    {
      "cell_type": "code",
      "source": [
        "from sklearn.neighbors import KNeighborsClassifier\n",
        "data = list(zip(x,y))\n",
        "knn = KNeighborsClassifier(n_neighbors=1)\n",
        "knn.fit(data,classes)\n",
        "KNeighborsClassifier(n_neighbors=1)\n",
        "test_new_x = 23\n",
        "test_new_y = 13\n",
        "new_point = [(test_new_x,test_new_y)]\n",
        "prediction = knn.predict(new_point)\n",
        "print(prediction)"
      ],
      "metadata": {
        "colab": {
          "base_uri": "https://localhost:8080/"
        },
        "id": "zi3DavTv6c84",
        "outputId": "f2aca5ab-92e6-43ef-fa43-43218b5b07d7"
      },
      "execution_count": null,
      "outputs": [
        {
          "output_type": "stream",
          "name": "stdout",
          "text": [
            "[1]\n"
          ]
        }
      ]
    },
    {
      "cell_type": "code",
      "source": [
        "import matplotlib.pyplot as plt\n",
        "x=[7, 14, 21, 28, 35]\n",
        "y=[10, 11, 24, 25, 38]\n",
        "classes=[1,1,0,0,0]\n",
        "plt.plot(x,y)\n",
        "plt.show()"
      ],
      "metadata": {
        "colab": {
          "base_uri": "https://localhost:8080/",
          "height": 265
        },
        "id": "gTGzgTfM6tuu",
        "outputId": "c0cf1316-4d98-4508-933c-3021e50c1ec7"
      },
      "execution_count": null,
      "outputs": [
        {
          "output_type": "display_data",
          "data": {
            "text/plain": [
              "<Figure size 432x288 with 1 Axes>"
            ],
            "image/png": "[encoded data removed]"
          },
          "metadata": {
            "needs_background": "light"
          }
        }
      ]
    }
  ]
}